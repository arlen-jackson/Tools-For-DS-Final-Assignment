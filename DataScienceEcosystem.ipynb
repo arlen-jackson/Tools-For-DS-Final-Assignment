{
 "cells": [
  {
   "cell_type": "markdown",
   "id": "66fd52b4-1dc6-4ea0-8cd1-5e67f5eae006",
   "metadata": {},
   "source": [
    "# Data Science Tools and Ecosystem"
   ]
  },
  {
   "cell_type": "markdown",
   "id": "0ec5a843-1666-424b-940c-c7ea176a7f25",
   "metadata": {},
   "source": [
    "This notebook provides a brief summary of data science tools and the data science ecosystem."
   ]
  },
  {
   "cell_type": "markdown",
   "id": "5dc4b42a-8e3d-4064-9d25-1916e052d9dd",
   "metadata": {},
   "source": [
    "Some of the most popular languages for data science are:\n",
    "1. Python\n",
    "2. R\n",
    "3. Julia"
   ]
  },
  {
   "cell_type": "markdown",
   "id": "ae2e3976-5442-4f4e-a023-44340edd7672",
   "metadata": {},
   "source": [
    "Some of the more commonly-used libraries and packages for data science are:\n",
    "1. scikit-learn\n",
    "2. caret\n",
    "3. pandas"
   ]
  },
  {
   "cell_type": "markdown",
   "id": "a21522b0-34db-4a15-964c-4f47cc02589b",
   "metadata": {},
   "source": [
    "|Data Science Tools|\n",
    "|------------------|\n",
    "|Jupyter Notebooks |\n",
    "|R Studio          |\n",
    "|Spyder            |"
   ]
  },
  {
   "cell_type": "markdown",
   "id": "932ec522-06c6-4faf-81f3-c52b8120d27a",
   "metadata": {},
   "source": [
    "### Here are some examples of evaluating arithmetic expressions in Python:"
   ]
  },
  {
   "cell_type": "code",
   "execution_count": 7,
   "id": "78c0f6b8-4879-4565-8f0b-5c124f3ad8fd",
   "metadata": {},
   "outputs": [
    {
     "data": {
      "text/plain": [
       "17"
      ]
     },
     "execution_count": 7,
     "metadata": {},
     "output_type": "execute_result"
    }
   ],
   "source": [
    "# here is an example of a basic expression:\n",
    "(3*4)+5"
   ]
  },
  {
   "cell_type": "code",
   "execution_count": 6,
   "id": "1a76b370-23fa-479b-ad59-9f049298d5dd",
   "metadata": {},
   "outputs": [
    {
     "name": "stdout",
     "output_type": "stream",
     "text": [
      "3.3333333333333335\n"
     ]
    }
   ],
   "source": [
    "# this code converts minutes into hours by defining the number of minutes in an hour and the given \n",
    "# number of minutes and dividing the latter by the former\n",
    "minutes_in_hour = 60\n",
    "given_minutes = 200\n",
    "result_hours = given_minutes / minutes_in_hour\n",
    "print(result_hours)"
   ]
  },
  {
   "cell_type": "markdown",
   "id": "01772e14-edb4-41ff-b2f8-2af846fe1c5d",
   "metadata": {},
   "source": [
    "**Objectives:**\n",
    "- Sharing popular data science languages, environments, and packages\n",
    "- Utilizing various markdown styles, such as headers, bold type, lists, and charts\n",
    "- Executing simple arithmetic expressions\n",
    "- Commenting code for better readability"
   ]
  },
  {
   "cell_type": "markdown",
   "id": "f390520d-f4b2-4498-9bb8-94dc75cc6c88",
   "metadata": {},
   "source": [
    "## Author\n",
    "Marlene Jackson"
   ]
  },
  {
   "cell_type": "code",
   "execution_count": null,
   "id": "de2140ac-a62d-4fee-9804-5c226c4f116b",
   "metadata": {},
   "outputs": [],
   "source": []
  }
 ],
 "metadata": {
  "kernelspec": {
   "display_name": "Python 3 (ipykernel)",
   "language": "python",
   "name": "python3"
  },
  "language_info": {
   "codemirror_mode": {
    "name": "ipython",
    "version": 3
   },
   "file_extension": ".py",
   "mimetype": "text/x-python",
   "name": "python",
   "nbconvert_exporter": "python",
   "pygments_lexer": "ipython3",
   "version": "3.12.8"
  }
 },
 "nbformat": 4,
 "nbformat_minor": 5
}
